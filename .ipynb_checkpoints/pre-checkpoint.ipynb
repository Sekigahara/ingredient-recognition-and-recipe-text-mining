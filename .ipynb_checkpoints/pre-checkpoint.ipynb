{
 "cells": [
  {
   "cell_type": "code",
   "execution_count": 1,
   "id": "sweet-feelings",
   "metadata": {},
   "outputs": [
    {
     "name": "stdout",
     "output_type": "stream",
     "text": [
      "['carrot', 'mango']\n"
     ]
    }
   ],
   "source": [
    "from nltk.tokenize import word_tokenize\n",
    "from nltk.corpus import stopwords\n",
    "from Sastrawi.StopWordRemover.StopWordRemoverFactory import StopWordRemoverFactory\n",
    "from nltk.stem import PorterStemmer\n",
    "import re\n",
    "import string\n",
    "\n",
    "query = \"carrot, mangoes\"\n",
    "\n",
    "#preprocessing\n",
    "#make all word to lowercase\n",
    "query = query.lower()\n",
    "#remove number\n",
    "rm_number = str.maketrans('', '', string.digits)\n",
    "query = query.translate(rm_number)\n",
    "#remove punctuations\n",
    "rm_punctuations = str.maketrans('', '', string.punctuation)\n",
    "query = query.translate(rm_punctuations)\n",
    "#remove UNICODE characters\n",
    "query = query.encode(\"ascii\", \"ignore\")\n",
    "query = query.decode()\n",
    "#remove whitespaces\n",
    "query = query.strip()\n",
    "\n",
    "#Tokenize Query\n",
    "query_tokenize = word_tokenize(query)\n",
    "\n",
    "#Filtering\n",
    "query_filtered = []\n",
    "stopword = stopwords.words('english')\n",
    "new_stopword = [\"tbsp\", \"lb\", \"tsp\", \"oz\", \"g\", \"inch\", \"inches\", \"tablespoons\", \"cup\", \"teaspoon\"]\n",
    "stopword.extend(new_stopword)\n",
    "    \n",
    "for t in query_tokenize :\n",
    "    if t not in stopword :\n",
    "        query_filtered.append(t)\n",
    "        \n",
    "#Stemming\n",
    "stemmer = PorterStemmer()\n",
    "querylist = []\n",
    "    \n",
    "for query_t in query_filtered:\n",
    "    querylist.append(stemmer.stem(query_t))\n",
    "\n",
    "print(querylist)"
   ]
  },
  {
   "cell_type": "code",
   "execution_count": 3,
   "id": "affecting-assessment",
   "metadata": {},
   "outputs": [
    {
     "ename": "NameError",
     "evalue": "name 'pd' is not defined",
     "output_type": "error",
     "traceback": [
      "\u001b[1;31m---------------------------------------------------------------------------\u001b[0m",
      "\u001b[1;31mNameError\u001b[0m                                 Traceback (most recent call last)",
      "\u001b[1;32m<ipython-input-3-4b4a4f742a93>\u001b[0m in \u001b[0;36m<module>\u001b[1;34m\u001b[0m\n\u001b[0;32m      2\u001b[0m \u001b[1;32mfrom\u001b[0m \u001b[0mtext_result\u001b[0m \u001b[1;32mimport\u001b[0m \u001b[0mscores\u001b[0m\u001b[1;33m\u001b[0m\u001b[1;33m\u001b[0m\u001b[0m\n\u001b[0;32m      3\u001b[0m \u001b[1;33m\u001b[0m\u001b[0m\n\u001b[1;32m----> 4\u001b[1;33m \u001b[0mdata\u001b[0m \u001b[1;33m=\u001b[0m \u001b[0mpd\u001b[0m\u001b[1;33m.\u001b[0m\u001b[0mread_csv\u001b[0m\u001b[1;33m(\u001b[0m\u001b[1;34m\"Food Ingredients and Recipe Dataset with Image Name Mapping.csv\"\u001b[0m\u001b[1;33m)\u001b[0m\u001b[1;33m\u001b[0m\u001b[1;33m\u001b[0m\u001b[0m\n\u001b[0m\u001b[0;32m      5\u001b[0m \u001b[0mdata\u001b[0m \u001b[1;33m=\u001b[0m \u001b[0mdata\u001b[0m\u001b[1;33m[\u001b[0m\u001b[0mdata\u001b[0m\u001b[1;33m[\u001b[0m\u001b[1;34m'Ingredients'\u001b[0m\u001b[1;33m]\u001b[0m\u001b[1;33m.\u001b[0m\u001b[0mstr\u001b[0m\u001b[1;33m.\u001b[0m\u001b[0mlen\u001b[0m\u001b[1;33m(\u001b[0m\u001b[1;33m)\u001b[0m \u001b[1;33m>\u001b[0m \u001b[1;36m2\u001b[0m\u001b[1;33m]\u001b[0m\u001b[1;33m\u001b[0m\u001b[1;33m\u001b[0m\u001b[0m\n\u001b[0;32m      6\u001b[0m \u001b[1;33m\u001b[0m\u001b[0m\n",
      "\u001b[1;31mNameError\u001b[0m: name 'pd' is not defined"
     ]
    }
   ],
   "source": [
    "import pandas as pd\n",
    "import numpy as np\n",
    "from text_result import scores\n",
    "\n",
    "data = pd.read_csv(\"Food Ingredients and Recipe Dataset with Image Name Mapping.csv\")\n",
    "data = data[data['Ingredients'].str.len() > 2]\n",
    "\n",
    "#search Engine\n",
    "rankdocs = []\n",
    "index = []\n",
    "idx = 0\n",
    "for score in scores :\n",
    "    val = 0\n",
    "    idx = idx + 1;\n",
    "    for word, frequency in score :\n",
    "        for query in querylist :\n",
    "            if word == query :\n",
    "                val = val + frequency\n",
    "                \n",
    "    if(val != 0) :\n",
    "        index.append(idx)\n",
    "        rankdocs.append(val)\n",
    "\n",
    "temp_index = [x for _,x in sorted(zip(rankdocs, index), reverse=True)]\n",
    "temp_rankdocs = np.sort(rankdocs)[::-1]\n",
    "\n",
    "for i in range(len(index)) :\n",
    "    print(str(temp_index[i]-1) + \":\" + str(data.iloc[temp_index[i]-1][\"Title\"]) + \":\" + str(temp_rankdocs[i]))"
   ]
  },
  {
   "cell_type": "code",
   "execution_count": null,
   "id": "thorough-rating",
   "metadata": {},
   "outputs": [],
   "source": []
  }
 ],
 "metadata": {
  "kernelspec": {
   "display_name": "Python 3",
   "language": "python",
   "name": "python3"
  },
  "language_info": {
   "codemirror_mode": {
    "name": "ipython",
    "version": 3
   },
   "file_extension": ".py",
   "mimetype": "text/x-python",
   "name": "python",
   "nbconvert_exporter": "python",
   "pygments_lexer": "ipython3",
   "version": "3.7.9"
  }
 },
 "nbformat": 4,
 "nbformat_minor": 5
}
